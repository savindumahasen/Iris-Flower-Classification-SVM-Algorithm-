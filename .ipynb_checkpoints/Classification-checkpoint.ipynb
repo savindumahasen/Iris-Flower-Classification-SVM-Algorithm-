{
 "cells": [
  {
   "cell_type": "code",
   "execution_count": 2,
   "id": "203c9ae5-1816-46d2-b12e-8523fbe94e7c",
   "metadata": {},
   "outputs": [],
   "source": [
    "import pandas as pd\n",
    "import numpy as np"
   ]
  },
  {
   "cell_type": "code",
   "execution_count": null,
   "id": "02a41e59-4bf7-4f90-84ba-f77d237688d7",
   "metadata": {},
   "outputs": [],
   "source": []
  }
 ],
 "metadata": {
  "kernelspec": {
   "display_name": "Python 3 (ipykernel)",
   "language": "python",
   "name": "python3"
  },
  "language_info": {
   "codemirror_mode": {
    "name": "ipython",
    "version": 3
   },
   "file_extension": ".py",
   "mimetype": "text/x-python",
   "name": "python",
   "nbconvert_exporter": "python",
   "pygments_lexer": "ipython3",
   "version": "3.12.1"
  }
 },
 "nbformat": 4,
 "nbformat_minor": 5
}
